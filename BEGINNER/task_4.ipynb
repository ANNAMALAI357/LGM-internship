{
 "cells": [
  {
   "cell_type": "markdown",
   "id": "614cd2b7",
   "metadata": {},
   "source": [
    "# BEGINNER TASK-4 : Image to Pencil Sketch with Python"
   ]
  },
  {
   "cell_type": "markdown",
   "id": "b47afbf5",
   "metadata": {},
   "source": [
    "IMPORTING OPENCV LIBRARY"
   ]
  },
  {
   "cell_type": "code",
   "execution_count": 1,
   "id": "11a10257",
   "metadata": {},
   "outputs": [],
   "source": [
    "import cv2"
   ]
  },
  {
   "cell_type": "markdown",
   "id": "aeb7619c",
   "metadata": {},
   "source": [
    "LOADING THE IMAGE FILE"
   ]
  },
  {
   "cell_type": "code",
   "execution_count": 2,
   "id": "015b39c9",
   "metadata": {},
   "outputs": [
    {
     "data": {
      "text/plain": [
       "-1"
      ]
     },
     "execution_count": 2,
     "metadata": {},
     "output_type": "execute_result"
    }
   ],
   "source": [
    "image = cv2.imread(\"12374.jpg\")\n",
    "cv2.imshow(\"Dog\", image)\n",
    "cv2.waitKey()"
   ]
  },
  {
   "cell_type": "markdown",
   "id": "3db8d75f",
   "metadata": {},
   "source": [
    "CREATING A GRAY IMAGE OF THE ORIGINAL IMAGE"
   ]
  },
  {
   "cell_type": "code",
   "execution_count": 3,
   "id": "58716d45",
   "metadata": {},
   "outputs": [
    {
     "data": {
      "text/plain": [
       "-1"
      ]
     },
     "execution_count": 3,
     "metadata": {},
     "output_type": "execute_result"
    }
   ],
   "source": [
    "gray_image = cv2.cvtColor(image, cv2.COLOR_BGR2GRAY)\n",
    "cv2.imshow(\"New Dog\", gray_image)\n",
    "cv2.waitKey(0)"
   ]
  },
  {
   "cell_type": "markdown",
   "id": "8a55a491",
   "metadata": {},
   "source": [
    "IVERTING THE GRAY IMAGE"
   ]
  },
  {
   "cell_type": "code",
   "execution_count": 4,
   "id": "280e0101",
   "metadata": {},
   "outputs": [
    {
     "data": {
      "text/plain": [
       "-1"
      ]
     },
     "execution_count": 4,
     "metadata": {},
     "output_type": "execute_result"
    }
   ],
   "source": [
    "inverted_image = 255 - gray_image\n",
    "cv2.imshow(\"Inverted\", inverted_image)\n",
    "cv2.waitKey()"
   ]
  },
  {
   "cell_type": "markdown",
   "id": "aa647612",
   "metadata": {},
   "source": [
    "APPLYING NECESSARY PREPROCESSING TO GET THE PENCIL SKETCH"
   ]
  },
  {
   "cell_type": "code",
   "execution_count": 5,
   "id": "52e2f2a9",
   "metadata": {},
   "outputs": [],
   "source": [
    "blurred = cv2.GaussianBlur(inverted_image, (21, 21), 0)"
   ]
  },
  {
   "cell_type": "code",
   "execution_count": 6,
   "id": "470c0650",
   "metadata": {},
   "outputs": [
    {
     "data": {
      "text/plain": [
       "-1"
      ]
     },
     "execution_count": 6,
     "metadata": {},
     "output_type": "execute_result"
    }
   ],
   "source": [
    "inverted_blurred = 255 - blurred\n",
    "pencil_sketch = cv2.divide(gray_image, inverted_blurred, scale=256.0)\n",
    "cv2.imshow(\"Sketch\", pencil_sketch)\n",
    "cv2.waitKey(0)"
   ]
  },
  {
   "cell_type": "markdown",
   "id": "aff454bb",
   "metadata": {},
   "source": [
    "DISPLAYING THE ORIGINAL IMAGE AND PENCIL SKETCH"
   ]
  },
  {
   "cell_type": "code",
   "execution_count": 8,
   "id": "d9007829",
   "metadata": {},
   "outputs": [
    {
     "data": {
      "text/plain": [
       "-1"
      ]
     },
     "execution_count": 8,
     "metadata": {},
     "output_type": "execute_result"
    }
   ],
   "source": [
    "cv2.imshow(\"original image\", image)\n",
    "cv2.imshow(\"pencil sketch\", pencil_sketch)\n",
    "cv2.waitKey(0)"
   ]
  },
  {
   "cell_type": "markdown",
   "id": "6faa14b3",
   "metadata": {},
   "source": [
    "SAVING THE PENCIL SKETCH TO LOCAL DIRECTORY"
   ]
  },
  {
   "cell_type": "code",
   "execution_count": 9,
   "id": "cb6c798f",
   "metadata": {},
   "outputs": [
    {
     "data": {
      "text/plain": [
       "True"
      ]
     },
     "execution_count": 9,
     "metadata": {},
     "output_type": "execute_result"
    }
   ],
   "source": [
    "cv2.imwrite(\"sketch_owl.jpg\", pencil_sketch)"
   ]
  },
  {
   "cell_type": "code",
   "execution_count": null,
   "id": "7e1a6041",
   "metadata": {},
   "outputs": [],
   "source": []
  }
 ],
 "metadata": {
  "kernelspec": {
   "display_name": "Python 3",
   "language": "python",
   "name": "python3"
  },
  "language_info": {
   "codemirror_mode": {
    "name": "ipython",
    "version": 3
   },
   "file_extension": ".py",
   "mimetype": "text/x-python",
   "name": "python",
   "nbconvert_exporter": "python",
   "pygments_lexer": "ipython3",
   "version": "3.8.8"
  }
 },
 "nbformat": 4,
 "nbformat_minor": 5
}
