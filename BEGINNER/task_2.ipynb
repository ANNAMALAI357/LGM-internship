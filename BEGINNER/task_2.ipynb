{
  "nbformat": 4,
  "nbformat_minor": 0,
  "metadata": {
    "colab": {
      "name": "task-2.ipynb",
      "provenance": []
    },
    "kernelspec": {
      "name": "python3",
      "display_name": "Python 3"
    },
    "language_info": {
      "name": "python"
    }
  },
  "cells": [
    {
      "cell_type": "markdown",
      "metadata": {
        "id": "ZlQPNgNieWFP"
      },
      "source": [
        "**BEGINNER TASK-2 : Stock Market Prediction And Forecasting Using Stacked LSTM**"
      ]
    },
    {
      "cell_type": "markdown",
      "metadata": {
        "id": "sFmX96r8de_d"
      },
      "source": [
        "IMPORTING NECESSARY LIBRARIES FOR READING THE DATASET"
      ]
    },
    {
      "cell_type": "code",
      "metadata": {
        "id": "v_xH2FYc9Agf"
      },
      "source": [
        "import numpy as np\n",
        "import matplotlib.pyplot as plt\n",
        "import pandas as pd"
      ],
      "execution_count": 1,
      "outputs": []
    },
    {
      "cell_type": "code",
      "metadata": {
        "id": "tBN0Ejxp9VM0"
      },
      "source": [
        "url = 'https://raw.githubusercontent.com/mwitiderrick/stockprice/master/NSE-TATAGLOBAL.csv'\n",
        "dataset_train = pd.read_csv(url)\n",
        "training_set = dataset_train.iloc[:, 1:2].values"
      ],
      "execution_count": 2,
      "outputs": []
    },
    {
      "cell_type": "code",
      "metadata": {
        "colab": {
          "base_uri": "https://localhost:8080/",
          "height": 203
        },
        "id": "9z4VOHAF9hWI",
        "outputId": "3077539a-54e1-45c4-c8e5-2a3d8306f254"
      },
      "source": [
        "dataset_train.head()"
      ],
      "execution_count": 3,
      "outputs": [
        {
          "output_type": "execute_result",
          "data": {
            "text/html": [
              "<div>\n",
              "<style scoped>\n",
              "    .dataframe tbody tr th:only-of-type {\n",
              "        vertical-align: middle;\n",
              "    }\n",
              "\n",
              "    .dataframe tbody tr th {\n",
              "        vertical-align: top;\n",
              "    }\n",
              "\n",
              "    .dataframe thead th {\n",
              "        text-align: right;\n",
              "    }\n",
              "</style>\n",
              "<table border=\"1\" class=\"dataframe\">\n",
              "  <thead>\n",
              "    <tr style=\"text-align: right;\">\n",
              "      <th></th>\n",
              "      <th>Date</th>\n",
              "      <th>Open</th>\n",
              "      <th>High</th>\n",
              "      <th>Low</th>\n",
              "      <th>Last</th>\n",
              "      <th>Close</th>\n",
              "      <th>Total Trade Quantity</th>\n",
              "      <th>Turnover (Lacs)</th>\n",
              "    </tr>\n",
              "  </thead>\n",
              "  <tbody>\n",
              "    <tr>\n",
              "      <th>0</th>\n",
              "      <td>2018-09-28</td>\n",
              "      <td>234.05</td>\n",
              "      <td>235.95</td>\n",
              "      <td>230.20</td>\n",
              "      <td>233.50</td>\n",
              "      <td>233.75</td>\n",
              "      <td>3069914</td>\n",
              "      <td>7162.35</td>\n",
              "    </tr>\n",
              "    <tr>\n",
              "      <th>1</th>\n",
              "      <td>2018-09-27</td>\n",
              "      <td>234.55</td>\n",
              "      <td>236.80</td>\n",
              "      <td>231.10</td>\n",
              "      <td>233.80</td>\n",
              "      <td>233.25</td>\n",
              "      <td>5082859</td>\n",
              "      <td>11859.95</td>\n",
              "    </tr>\n",
              "    <tr>\n",
              "      <th>2</th>\n",
              "      <td>2018-09-26</td>\n",
              "      <td>240.00</td>\n",
              "      <td>240.00</td>\n",
              "      <td>232.50</td>\n",
              "      <td>235.00</td>\n",
              "      <td>234.25</td>\n",
              "      <td>2240909</td>\n",
              "      <td>5248.60</td>\n",
              "    </tr>\n",
              "    <tr>\n",
              "      <th>3</th>\n",
              "      <td>2018-09-25</td>\n",
              "      <td>233.30</td>\n",
              "      <td>236.75</td>\n",
              "      <td>232.00</td>\n",
              "      <td>236.25</td>\n",
              "      <td>236.10</td>\n",
              "      <td>2349368</td>\n",
              "      <td>5503.90</td>\n",
              "    </tr>\n",
              "    <tr>\n",
              "      <th>4</th>\n",
              "      <td>2018-09-24</td>\n",
              "      <td>233.55</td>\n",
              "      <td>239.20</td>\n",
              "      <td>230.75</td>\n",
              "      <td>234.00</td>\n",
              "      <td>233.30</td>\n",
              "      <td>3423509</td>\n",
              "      <td>7999.55</td>\n",
              "    </tr>\n",
              "  </tbody>\n",
              "</table>\n",
              "</div>"
            ],
            "text/plain": [
              "         Date    Open    High  ...   Close  Total Trade Quantity  Turnover (Lacs)\n",
              "0  2018-09-28  234.05  235.95  ...  233.75               3069914          7162.35\n",
              "1  2018-09-27  234.55  236.80  ...  233.25               5082859         11859.95\n",
              "2  2018-09-26  240.00  240.00  ...  234.25               2240909          5248.60\n",
              "3  2018-09-25  233.30  236.75  ...  236.10               2349368          5503.90\n",
              "4  2018-09-24  233.55  239.20  ...  233.30               3423509          7999.55\n",
              "\n",
              "[5 rows x 8 columns]"
            ]
          },
          "metadata": {},
          "execution_count": 3
        }
      ]
    },
    {
      "cell_type": "markdown",
      "metadata": {
        "id": "LRMtNZt8ds_y"
      },
      "source": [
        "CREATING TEST AND TRAIN DATA SET"
      ]
    },
    {
      "cell_type": "code",
      "metadata": {
        "id": "I6NaBRC69iD3"
      },
      "source": [
        "from sklearn.preprocessing import MinMaxScaler\n",
        "sc = MinMaxScaler(feature_range = (0, 1))\n",
        "training_set_scaled = sc.fit_transform(training_set)"
      ],
      "execution_count": 4,
      "outputs": []
    },
    {
      "cell_type": "code",
      "metadata": {
        "id": "yZLZqxHy9lcA"
      },
      "source": [
        "X_train = []\n",
        "y_train = []\n",
        "for i in range(60, 2035):\n",
        "    X_train.append(training_set_scaled[i-60:i, 0])\n",
        "    y_train.append(training_set_scaled[i, 0])\n",
        "X_train, y_train = np.array(X_train), np.array(y_train)\n",
        "\n",
        "X_train = np.reshape(X_train, (X_train.shape[0], X_train.shape[1], 1))"
      ],
      "execution_count": 5,
      "outputs": []
    },
    {
      "cell_type": "markdown",
      "metadata": {
        "id": "tALqgEt7dyo3"
      },
      "source": [
        "IMPORTING LIBRARIES FOR MACHINE LERANING MODEL AND TRAINING THE MODEL"
      ]
    },
    {
      "cell_type": "code",
      "metadata": {
        "id": "Ne0C63Fu9oGL"
      },
      "source": [
        "from keras.models import Sequential\n",
        "from keras.layers import Dense\n",
        "from keras.layers import LSTM\n",
        "from keras.layers import Dropout"
      ],
      "execution_count": 6,
      "outputs": []
    },
    {
      "cell_type": "code",
      "metadata": {
        "colab": {
          "base_uri": "https://localhost:8080/"
        },
        "id": "kSLrAqgl9ry-",
        "outputId": "eda4f6e6-bded-4340-b834-dea8c962175e"
      },
      "source": [
        "regressor = Sequential()\n",
        "\n",
        "regressor.add(LSTM(units = 50, return_sequences = True, input_shape = (X_train.shape[1], 1)))\n",
        "regressor.add(Dropout(0.2))\n",
        "\n",
        "regressor.add(LSTM(units = 50, return_sequences = True))\n",
        "regressor.add(Dropout(0.2))\n",
        "\n",
        "regressor.add(LSTM(units = 50, return_sequences = True))\n",
        "regressor.add(Dropout(0.2))\n",
        "\n",
        "regressor.add(LSTM(units = 50))\n",
        "regressor.add(Dropout(0.2))\n",
        "\n",
        "regressor.add(Dense(units = 1))\n",
        "\n",
        "regressor.compile(optimizer = 'adam', loss = 'mean_squared_error')\n",
        "\n",
        "regressor.fit(X_train, y_train, epochs = 100, batch_size = 32)"
      ],
      "execution_count": 7,
      "outputs": [
        {
          "output_type": "stream",
          "name": "stdout",
          "text": [
            "Epoch 1/100\n",
            "62/62 [==============================] - 13s 106ms/step - loss: 0.0110\n",
            "Epoch 2/100\n",
            "62/62 [==============================] - 7s 106ms/step - loss: 0.0034\n",
            "Epoch 3/100\n",
            "62/62 [==============================] - 7s 106ms/step - loss: 0.0026\n",
            "Epoch 4/100\n",
            "62/62 [==============================] - 7s 106ms/step - loss: 0.0030\n",
            "Epoch 5/100\n",
            "62/62 [==============================] - 7s 105ms/step - loss: 0.0026\n",
            "Epoch 6/100\n",
            "62/62 [==============================] - 7s 106ms/step - loss: 0.0023\n",
            "Epoch 7/100\n",
            "62/62 [==============================] - 7s 106ms/step - loss: 0.0022\n",
            "Epoch 8/100\n",
            "62/62 [==============================] - 7s 106ms/step - loss: 0.0020\n",
            "Epoch 9/100\n",
            "62/62 [==============================] - 7s 106ms/step - loss: 0.0023\n",
            "Epoch 10/100\n",
            "62/62 [==============================] - 7s 106ms/step - loss: 0.0019\n",
            "Epoch 11/100\n",
            "62/62 [==============================] - 7s 107ms/step - loss: 0.0018\n",
            "Epoch 12/100\n",
            "62/62 [==============================] - 7s 107ms/step - loss: 0.0022\n",
            "Epoch 13/100\n",
            "62/62 [==============================] - 7s 107ms/step - loss: 0.0019\n",
            "Epoch 14/100\n",
            "62/62 [==============================] - 7s 105ms/step - loss: 0.0016\n",
            "Epoch 15/100\n",
            "62/62 [==============================] - 7s 107ms/step - loss: 0.0017\n",
            "Epoch 16/100\n",
            "62/62 [==============================] - 7s 108ms/step - loss: 0.0014\n",
            "Epoch 17/100\n",
            "62/62 [==============================] - 7s 106ms/step - loss: 0.0016\n",
            "Epoch 18/100\n",
            "62/62 [==============================] - 7s 106ms/step - loss: 0.0016\n",
            "Epoch 19/100\n",
            "62/62 [==============================] - 7s 106ms/step - loss: 0.0014\n",
            "Epoch 20/100\n",
            "62/62 [==============================] - 7s 107ms/step - loss: 0.0013\n",
            "Epoch 21/100\n",
            "62/62 [==============================] - 7s 106ms/step - loss: 0.0014\n",
            "Epoch 22/100\n",
            "62/62 [==============================] - 7s 106ms/step - loss: 0.0013\n",
            "Epoch 23/100\n",
            "62/62 [==============================] - 7s 107ms/step - loss: 0.0013\n",
            "Epoch 24/100\n",
            "62/62 [==============================] - 7s 107ms/step - loss: 0.0013\n",
            "Epoch 25/100\n",
            "62/62 [==============================] - 7s 106ms/step - loss: 0.0013\n",
            "Epoch 26/100\n",
            "62/62 [==============================] - 7s 107ms/step - loss: 0.0013\n",
            "Epoch 27/100\n",
            "62/62 [==============================] - 7s 106ms/step - loss: 0.0013\n",
            "Epoch 28/100\n",
            "62/62 [==============================] - 7s 107ms/step - loss: 0.0013\n",
            "Epoch 29/100\n",
            "62/62 [==============================] - 7s 107ms/step - loss: 0.0013\n",
            "Epoch 30/100\n",
            "62/62 [==============================] - 7s 105ms/step - loss: 0.0012\n",
            "Epoch 31/100\n",
            "62/62 [==============================] - 7s 106ms/step - loss: 0.0012\n",
            "Epoch 32/100\n",
            "62/62 [==============================] - 7s 106ms/step - loss: 0.0012\n",
            "Epoch 33/100\n",
            "62/62 [==============================] - 7s 106ms/step - loss: 0.0012\n",
            "Epoch 34/100\n",
            "62/62 [==============================] - 7s 105ms/step - loss: 0.0011\n",
            "Epoch 35/100\n",
            "62/62 [==============================] - 7s 106ms/step - loss: 9.3416e-04\n",
            "Epoch 36/100\n",
            "62/62 [==============================] - 7s 106ms/step - loss: 0.0013\n",
            "Epoch 37/100\n",
            "62/62 [==============================] - 7s 106ms/step - loss: 0.0010\n",
            "Epoch 38/100\n",
            "62/62 [==============================] - 7s 106ms/step - loss: 0.0011\n",
            "Epoch 39/100\n",
            "62/62 [==============================] - 7s 107ms/step - loss: 9.8950e-04\n",
            "Epoch 40/100\n",
            "62/62 [==============================] - 7s 105ms/step - loss: 0.0010\n",
            "Epoch 41/100\n",
            "62/62 [==============================] - 7s 106ms/step - loss: 9.8823e-04\n",
            "Epoch 42/100\n",
            "62/62 [==============================] - 7s 107ms/step - loss: 9.3675e-04\n",
            "Epoch 43/100\n",
            "62/62 [==============================] - 7s 106ms/step - loss: 0.0013\n",
            "Epoch 44/100\n",
            "62/62 [==============================] - 7s 106ms/step - loss: 9.6817e-04\n",
            "Epoch 45/100\n",
            "62/62 [==============================] - 7s 107ms/step - loss: 8.3926e-04\n",
            "Epoch 46/100\n",
            "62/62 [==============================] - 7s 106ms/step - loss: 8.0566e-04\n",
            "Epoch 47/100\n",
            "62/62 [==============================] - 7s 106ms/step - loss: 8.8525e-04\n",
            "Epoch 48/100\n",
            "62/62 [==============================] - 7s 107ms/step - loss: 8.8870e-04\n",
            "Epoch 49/100\n",
            "62/62 [==============================] - 7s 107ms/step - loss: 8.1222e-04\n",
            "Epoch 50/100\n",
            "62/62 [==============================] - 7s 108ms/step - loss: 8.7768e-04\n",
            "Epoch 51/100\n",
            "62/62 [==============================] - 7s 106ms/step - loss: 8.5250e-04\n",
            "Epoch 52/100\n",
            "62/62 [==============================] - 7s 106ms/step - loss: 7.6955e-04\n",
            "Epoch 53/100\n",
            "62/62 [==============================] - 7s 106ms/step - loss: 9.2582e-04\n",
            "Epoch 54/100\n",
            "62/62 [==============================] - 7s 106ms/step - loss: 8.8106e-04\n",
            "Epoch 55/100\n",
            "62/62 [==============================] - 7s 106ms/step - loss: 8.9563e-04\n",
            "Epoch 56/100\n",
            "62/62 [==============================] - 7s 106ms/step - loss: 8.7039e-04\n",
            "Epoch 57/100\n",
            "62/62 [==============================] - 7s 106ms/step - loss: 8.4296e-04\n",
            "Epoch 58/100\n",
            "62/62 [==============================] - 7s 107ms/step - loss: 9.5363e-04\n",
            "Epoch 59/100\n",
            "62/62 [==============================] - 7s 106ms/step - loss: 9.9086e-04\n",
            "Epoch 60/100\n",
            "62/62 [==============================] - 7s 106ms/step - loss: 8.0571e-04\n",
            "Epoch 61/100\n",
            "62/62 [==============================] - 7s 107ms/step - loss: 8.4023e-04\n",
            "Epoch 62/100\n",
            "62/62 [==============================] - 7s 105ms/step - loss: 7.4932e-04\n",
            "Epoch 63/100\n",
            "62/62 [==============================] - 7s 107ms/step - loss: 7.2617e-04\n",
            "Epoch 64/100\n",
            "62/62 [==============================] - 7s 107ms/step - loss: 6.8925e-04\n",
            "Epoch 65/100\n",
            "62/62 [==============================] - 7s 105ms/step - loss: 8.8621e-04\n",
            "Epoch 66/100\n",
            "62/62 [==============================] - 7s 107ms/step - loss: 0.0011\n",
            "Epoch 67/100\n",
            "62/62 [==============================] - 7s 107ms/step - loss: 8.9684e-04\n",
            "Epoch 68/100\n",
            "62/62 [==============================] - 7s 106ms/step - loss: 8.0051e-04\n",
            "Epoch 69/100\n",
            "62/62 [==============================] - 7s 107ms/step - loss: 8.1336e-04\n",
            "Epoch 70/100\n",
            "62/62 [==============================] - 7s 106ms/step - loss: 8.8374e-04\n",
            "Epoch 71/100\n",
            "62/62 [==============================] - 7s 106ms/step - loss: 6.7954e-04\n",
            "Epoch 72/100\n",
            "62/62 [==============================] - 7s 107ms/step - loss: 7.2754e-04\n",
            "Epoch 73/100\n",
            "62/62 [==============================] - 7s 106ms/step - loss: 7.5338e-04\n",
            "Epoch 74/100\n",
            "62/62 [==============================] - 7s 106ms/step - loss: 6.9573e-04\n",
            "Epoch 75/100\n",
            "62/62 [==============================] - 7s 106ms/step - loss: 7.1440e-04\n",
            "Epoch 76/100\n",
            "62/62 [==============================] - 7s 105ms/step - loss: 6.9846e-04\n",
            "Epoch 77/100\n",
            "62/62 [==============================] - 7s 108ms/step - loss: 6.4186e-04\n",
            "Epoch 78/100\n",
            "62/62 [==============================] - 7s 106ms/step - loss: 7.6980e-04\n",
            "Epoch 79/100\n",
            "62/62 [==============================] - 7s 107ms/step - loss: 6.9351e-04\n",
            "Epoch 80/100\n",
            "62/62 [==============================] - 7s 106ms/step - loss: 6.9808e-04\n",
            "Epoch 81/100\n",
            "62/62 [==============================] - 7s 106ms/step - loss: 6.2743e-04\n",
            "Epoch 82/100\n",
            "62/62 [==============================] - 7s 107ms/step - loss: 7.2492e-04\n",
            "Epoch 83/100\n",
            "62/62 [==============================] - 7s 106ms/step - loss: 7.8038e-04\n",
            "Epoch 84/100\n",
            "62/62 [==============================] - 7s 106ms/step - loss: 6.3627e-04\n",
            "Epoch 85/100\n",
            "62/62 [==============================] - 7s 106ms/step - loss: 6.5379e-04\n",
            "Epoch 86/100\n",
            "62/62 [==============================] - 7s 107ms/step - loss: 7.0550e-04\n",
            "Epoch 87/100\n",
            "62/62 [==============================] - 7s 106ms/step - loss: 6.3084e-04\n",
            "Epoch 88/100\n",
            "62/62 [==============================] - 7s 106ms/step - loss: 6.3644e-04\n",
            "Epoch 89/100\n",
            "62/62 [==============================] - 7s 107ms/step - loss: 6.9264e-04\n",
            "Epoch 90/100\n",
            "62/62 [==============================] - 7s 107ms/step - loss: 6.2924e-04\n",
            "Epoch 91/100\n",
            "62/62 [==============================] - 7s 106ms/step - loss: 6.3130e-04\n",
            "Epoch 92/100\n",
            "62/62 [==============================] - 7s 106ms/step - loss: 6.8261e-04\n",
            "Epoch 93/100\n",
            "62/62 [==============================] - 7s 106ms/step - loss: 6.5037e-04\n",
            "Epoch 94/100\n",
            "62/62 [==============================] - 7s 106ms/step - loss: 6.5805e-04\n",
            "Epoch 95/100\n",
            "62/62 [==============================] - 7s 106ms/step - loss: 7.2155e-04\n",
            "Epoch 96/100\n",
            "62/62 [==============================] - 7s 107ms/step - loss: 6.3633e-04\n",
            "Epoch 97/100\n",
            "62/62 [==============================] - 7s 107ms/step - loss: 6.6740e-04\n",
            "Epoch 98/100\n",
            "62/62 [==============================] - 7s 106ms/step - loss: 7.3897e-04\n",
            "Epoch 99/100\n",
            "62/62 [==============================] - 7s 107ms/step - loss: 6.5829e-04\n",
            "Epoch 100/100\n",
            "62/62 [==============================] - 7s 106ms/step - loss: 5.9123e-04\n"
          ]
        },
        {
          "output_type": "execute_result",
          "data": {
            "text/plain": [
              "<keras.callbacks.History at 0x7f11da94ab10>"
            ]
          },
          "metadata": {},
          "execution_count": 7
        }
      ]
    },
    {
      "cell_type": "markdown",
      "metadata": {
        "id": "aEEdcJaFd7za"
      },
      "source": [
        "TESTING THE MODEL WITHH THE ADDITIONAL TEST DATA"
      ]
    },
    {
      "cell_type": "code",
      "metadata": {
        "id": "npyRz0O5DN2g"
      },
      "source": [
        "dataset_test = pd.read_csv('tatatest.csv')\n",
        "real_stock_price = dataset_test.iloc[:, 1:2].values"
      ],
      "execution_count": 11,
      "outputs": []
    },
    {
      "cell_type": "code",
      "metadata": {
        "id": "kVty8nUiDT69"
      },
      "source": [
        "dataset_total = pd.concat((dataset_train['Open'], dataset_test['Open']), axis = 0)\n",
        "inputs = dataset_total[len(dataset_total) - len(dataset_test) - 60:].values\n",
        "inputs = inputs.reshape(-1,1)\n",
        "inputs = sc.transform(inputs)\n",
        "X_test = []\n",
        "for i in range(60, 76):\n",
        "    X_test.append(inputs[i-60:i, 0])\n",
        "X_test = np.array(X_test)\n",
        "X_test = np.reshape(X_test, (X_test.shape[0], X_test.shape[1], 1))\n",
        "predicted_stock_price = regressor.predict(X_test)\n",
        "predicted_stock_price = sc.inverse_transform(predicted_stock_price)"
      ],
      "execution_count": 12,
      "outputs": []
    },
    {
      "cell_type": "markdown",
      "metadata": {
        "id": "kHH4SBrReEXb"
      },
      "source": [
        "PLOTTING THE GRAPH TO SHOW SIMILARITIES BETWWEN THE GIVEN DATA AND PREDICTED VALUE"
      ]
    },
    {
      "cell_type": "code",
      "metadata": {
        "colab": {
          "base_uri": "https://localhost:8080/",
          "height": 295
        },
        "id": "DuuVHqFiDacL",
        "outputId": "8c68bf8f-0f93-4436-8dd7-f799f4ac7f24"
      },
      "source": [
        "plt.plot(real_stock_price, color = 'black', label = 'TATA Stock Price')\n",
        "plt.plot(predicted_stock_price, color = 'green', label = 'Predicted TATA Stock Price')\n",
        "plt.title('TATA Stock Price Prediction')\n",
        "plt.xlabel('Time')\n",
        "plt.ylabel('TATA Stock Price')\n",
        "plt.legend()\n",
        "plt.show()"
      ],
      "execution_count": 13,
      "outputs": [
        {
          "output_type": "display_data",
          "data": {
            "image/png": "[encoded data removed]",
            "text/plain": [
              "<Figure size 432x288 with 1 Axes>"
            ]
          },
          "metadata": {
            "needs_background": "light"
          }
        }
      ]
    }
  ]
}